{
 "cells": [
  {
   "cell_type": "code",
   "execution_count": 4,
   "metadata": {},
   "outputs": [
    {
     "data": {
      "text/plain": [
       "['__header__', '__version__', '__globals__', 'csi_buff']"
      ]
     },
     "execution_count": 4,
     "metadata": {},
     "output_type": "execute_result"
    }
   ],
   "source": [
    "from scipy.io import loadmat\n",
    "\n",
    "# Load the .mat file to check its structure\n",
    "mat = loadmat(\"../dataset/AR1a_W.mat\")\n",
    "\n",
    "# Print all the keys in the loaded .mat file to understand its structure\n",
    "mat_keys = list(mat.keys())\n",
    "mat_keys"
   ]
  },
  {
   "cell_type": "code",
   "execution_count": 5,
   "metadata": {},
   "outputs": [
    {
     "data": {
      "text/plain": [
       "{'type': numpy.ndarray, 'shape': (83708, 256)}"
      ]
     },
     "execution_count": 5,
     "metadata": {},
     "output_type": "execute_result"
    }
   ],
   "source": [
    "# Extract the 'csi_buff' data from the .mat file\n",
    "csi_data = mat['csi_buff']\n",
    "\n",
    "# Display basic information about the CSI data to understand its structure\n",
    "csi_data_info = {\n",
    "    \"type\": type(csi_data),\n",
    "    \"shape\": csi_data.shape,\n",
    "}\n",
    "\n",
    "csi_data_info"
   ]
  }
 ],
 "metadata": {
  "kernelspec": {
   "display_name": "Python 3 (ipykernel)",
   "language": "python",
   "name": "python3"
  },
  "language_info": {
   "codemirror_mode": {
    "name": "ipython",
    "version": 3
   },
   "file_extension": ".py",
   "mimetype": "text/x-python",
   "name": "python",
   "nbconvert_exporter": "python",
   "pygments_lexer": "ipython3",
   "version": "3.11.7"
  }
 },
 "nbformat": 4,
 "nbformat_minor": 2
}
